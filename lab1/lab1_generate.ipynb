{
 "cells": [
  {
   "cell_type": "markdown",
   "id": "17a97e8b-8fe9-4359-9e26-9787e7bae353",
   "metadata": {},
   "source": [
    "Імпорт залежностей"
   ]
  },
  {
   "cell_type": "code",
   "execution_count": null,
   "id": "9d16aad7-ed4c-459e-bc50-6ac73b0b666a",
   "metadata": {},
   "outputs": [],
   "source": [
    "import pandas as pd\n",
    "import numpy as np"
   ]
  },
  {
   "cell_type": "markdown",
   "id": "74a83004-70a1-44e0-9ab3-0eb321b79ab2",
   "metadata": {},
   "source": [
    "Кількість рядків та сід"
   ]
  },
  {
   "cell_type": "code",
   "execution_count": null,
   "id": "091cf2c2-2006-45a7-8202-e779e6bafe60",
   "metadata": {},
   "outputs": [],
   "source": [
    "n = 150\n",
    "np.random.seed(42)"
   ]
  },
  {
   "cell_type": "markdown",
   "id": "78a17148-2242-422e-8096-a0a718bdc817",
   "metadata": {},
   "source": [
    "Генерація файлу"
   ]
  },
  {
   "cell_type": "code",
   "execution_count": null,
   "id": "11f8b6df-4325-4ce0-84d5-cbafab1f8596",
   "metadata": {},
   "outputs": [],
   "source": [
    "names = [f'Name_{i}' for i in range(1, n+1)]\n",
    "ages = np.random.randint(18, 70, size=n)\n",
    "cities = np.random.choice(['Kyiv', 'Lviv', 'Odessa', 'Dnipro', 'Kharkiv'], size=n)\n",
    "\n",
    "df = pd.DataFrame({\n",
    "    'Name': names,\n",
    "    'Age': ages,\n",
    "    'City': cities\n",
    "})\n",
    "\n",
    "df.to_csv('data.csv', index=False)\n",
    "print(\"Файл 'data.csv' створено успішно!\")"
   ]
  }
 ],
 "metadata": {
  "kernelspec": {
   "display_name": "AI Labs (Jupyter)",
   "language": "python",
   "name": "labs_repo"
  },
  "language_info": {
   "codemirror_mode": {
    "name": "ipython",
    "version": 3
   },
   "file_extension": ".py",
   "mimetype": "text/x-python",
   "name": "python",
   "nbconvert_exporter": "python",
   "pygments_lexer": "ipython3",
   "version": "3.9.6"
  }
 },
 "nbformat": 4,
 "nbformat_minor": 5
}
