{
 "cells": [
  {
   "cell_type": "markdown",
   "id": "0081cc36-9473-492e-a51a-f4da8f0b4bc3",
   "metadata": {},
   "source": [
    "Імпорт залежностей"
   ]
  },
  {
   "cell_type": "code",
   "execution_count": null,
   "id": "d9a86118-402d-4d90-b45c-7fbf7bf20cad",
   "metadata": {},
   "outputs": [],
   "source": [
    "import pandas as pd"
   ]
  },
  {
   "cell_type": "markdown",
   "id": "cd902762-49df-4e54-9d9b-3bb228327318",
   "metadata": {},
   "source": [
    "Імпортуємо CSV у DataFrame"
   ]
  },
  {
   "cell_type": "code",
   "execution_count": null,
   "id": "596908ce-085f-4d2b-82ff-70d23d092e30",
   "metadata": {},
   "outputs": [],
   "source": [
    "df = pd.read_csv('data.csv')"
   ]
  },
  {
   "cell_type": "markdown",
   "id": "b0e1c084-cd59-40fa-a437-eb2696ba4ecd",
   "metadata": {},
   "source": [
    "Вивід даних про файл"
   ]
  },
  {
   "cell_type": "code",
   "execution_count": null,
   "id": "0f3f576b-1181-4bfa-925c-46537bec81c0",
   "metadata": {},
   "outputs": [],
   "source": [
    "print(df.head())\n",
    "print(f\"Кількість рядків: {len(df)}\")"
   ]
  },
  {
   "cell_type": "markdown",
   "id": "1a8cd12a-0907-49aa-ac36-9d20a8c03708",
   "metadata": {},
   "source": [
    "Видаляємо стовпець City"
   ]
  },
  {
   "cell_type": "code",
   "execution_count": null,
   "id": "93291886-72fd-46f0-875b-1c4c00109bb7",
   "metadata": {},
   "outputs": [],
   "source": [
    "df = df.drop(columns=['City'])"
   ]
  },
  {
   "cell_type": "markdown",
   "id": "8adf7d3f-5774-4077-a543-16d63678b974",
   "metadata": {},
   "source": [
    "Перейменовуємо стовпці"
   ]
  },
  {
   "cell_type": "code",
   "execution_count": null,
   "id": "830bd806-afc4-49a6-89d2-f59cfa144e4b",
   "metadata": {},
   "outputs": [],
   "source": [
    "df = df.rename(columns={'Name': 'FirstName', 'Age': 'PersonAge'})"
   ]
  },
  {
   "cell_type": "markdown",
   "id": "342b993e-ba91-4f1b-91ca-a79d747f9360",
   "metadata": {},
   "source": [
    "Фільтруємо. PersonAge > 30"
   ]
  },
  {
   "cell_type": "code",
   "execution_count": null,
   "id": "f8b3c45c-ee08-4387-918a-286c086e4d1c",
   "metadata": {},
   "outputs": [],
   "source": [
    "df_filtered = df[df['PersonAge'] > 30]"
   ]
  },
  {
   "cell_type": "markdown",
   "id": "2dcc068d-4c7b-47f0-a7cc-67d60d5cf188",
   "metadata": {},
   "source": [
    "Виводимо 2, 6, 12, 24 рядки (індексація починається з 0)"
   ]
  },
  {
   "cell_type": "code",
   "execution_count": null,
   "id": "6d70a723-40c9-4321-ba00-34783066b51e",
   "metadata": {},
   "outputs": [],
   "source": [
    "rows_to_show = [2, 6, 12, 24]\n",
    "print(df_filtered.iloc[rows_to_show])"
   ]
  }
 ],
 "metadata": {
  "kernelspec": {
   "display_name": "AI Labs (Jupyter)",
   "language": "python",
   "name": "labs_repo"
  },
  "language_info": {
   "codemirror_mode": {
    "name": "ipython",
    "version": 3
   },
   "file_extension": ".py",
   "mimetype": "text/x-python",
   "name": "python",
   "nbconvert_exporter": "python",
   "pygments_lexer": "ipython3",
   "version": "3.9.6"
  }
 },
 "nbformat": 4,
 "nbformat_minor": 5
}
