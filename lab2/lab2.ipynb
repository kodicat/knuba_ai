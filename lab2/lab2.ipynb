{
 "cells": [
  {
   "cell_type": "markdown",
   "id": "21145154-171b-402a-8d45-2155f1095cf2",
   "metadata": {},
   "source": [
    "Імпорт бібліотек та завантаження даних"
   ]
  },
  {
   "cell_type": "code",
   "execution_count": null,
   "id": "253dab73-3851-43b8-aa00-dd0f13675df3",
   "metadata": {},
   "outputs": [],
   "source": [
    "import pandas as pd\n",
    "import numpy as np\n",
    "import matplotlib.pyplot as plt\n",
    "import seaborn as sns\n",
    "\n",
    "df = pd.read_csv('recent-grads.csv')\n",
    "\n",
    "print(df.head())\n",
    "print(df.info())"
   ]
  },
  {
   "cell_type": "markdown",
   "id": "d4067179-7353-480d-baee-1c9e4e6314b0",
   "metadata": {},
   "source": [
    "Попередня обробка"
   ]
  },
  {
   "cell_type": "code",
   "execution_count": null,
   "id": "c3100502-fdb2-4252-a6bc-39163ce01050",
   "metadata": {},
   "outputs": [],
   "source": [
    "columns_to_keep = ['Major_category', 'Major', 'Total', 'Men', 'Women',\n",
    "                   'Employed', 'Unemployed', 'Full_time', 'Part_time']\n",
    "df = df[columns_to_keep]\n",
    "\n",
    "print(df.isnull().sum())\n",
    "\n",
    "df = df.dropna()\n",
    "\n",
    "print(f\"Після очищення рядків: {len(df)}\")"
   ]
  },
  {
   "cell_type": "markdown",
   "id": "119dd43b-12a6-4437-9193-65c6026d9208",
   "metadata": {},
   "source": [
    "Фільтруємо спеціальності категорії «Engineering»"
   ]
  },
  {
   "cell_type": "code",
   "execution_count": null,
   "id": "cc7711ca-504f-459e-a184-2537aa683372",
   "metadata": {},
   "outputs": [],
   "source": [
    "df_eng = df[df['Major_category'] == 'Engineering'].copy()"
   ]
  },
  {
   "cell_type": "markdown",
   "id": "99583708-7306-45c8-90d4-7775886ae5d3",
   "metadata": {},
   "source": [
    "Здобувач 1 (Юхимчук) — розрахунок середнього рівня працевлаштування"
   ]
  },
  {
   "cell_type": "code",
   "execution_count": null,
   "id": "734256f5-2b81-4c4e-aa1c-36ea1908fe1a",
   "metadata": {},
   "outputs": [],
   "source": [
    "df_eng['Employment_rate'] = df_eng['Employed'] / (df_eng['Employed'] + df_eng['Unemployed'])\n",
    "\n",
    "mean_employment_rate = df_eng['Employment_rate'].mean()\n",
    "print(f\"Середній рівень працевлаштування: {mean_employment_rate:.4f}\")"
   ]
  },
  {
   "cell_type": "markdown",
   "id": "87b31b11-0c04-42e0-9dd0-69ecb87b22ac",
   "metadata": {},
   "source": [
    "Здобувач 1 (Юхимчук) — гістограма розподілу кількості студентів на спеціальності (Total)"
   ]
  },
  {
   "cell_type": "code",
   "execution_count": null,
   "id": "b0160e68-5be7-43c9-b08a-feab407d92f1",
   "metadata": {},
   "outputs": [],
   "source": [
    "plt.figure(figsize=(10,6))\n",
    "sns.histplot(df_eng['Total'], bins=30, kde=False)\n",
    "plt.title('Гістограма кількості студентів на спеціальностях (Engineering)')\n",
    "plt.xlabel('Кількість студентів (Total)')\n",
    "plt.ylabel('Кількість спеціальностей')\n",
    "plt.show()"
   ]
  },
  {
   "cell_type": "markdown",
   "id": "13eaf98a-3537-482b-97c2-c55205a3e0b7",
   "metadata": {},
   "source": [
    "Здобувач 1 (Юхимчук) — медіана кількості чоловіків (Men) на спеціальностях з рівнем працевлаштування вище середнього"
   ]
  },
  {
   "cell_type": "code",
   "execution_count": null,
   "id": "764b6c2f-646e-46ba-a913-004d5fc3956e",
   "metadata": {},
   "outputs": [],
   "source": [
    "men_median = df_eng[df_eng['Employment_rate'] > mean_employment_rate]['Men'].median()\n",
    "print(f\"Медіана кількості чоловіків на спеціальностях з рівнем працевлаштування вище середнього: {men_median}\")"
   ]
  },
  {
   "cell_type": "markdown",
   "id": "18cf3a6e-3d52-4524-a133-d2cd50256fac",
   "metadata": {},
   "source": [
    "7. Здобувач 2 (Коляда) — діаграма розсіювання Men vs Women + горизонтальна лінія медіани"
   ]
  },
  {
   "cell_type": "code",
   "execution_count": null,
   "id": "59acd515-0e4d-42a1-b504-8f8055cec662",
   "metadata": {},
   "outputs": [],
   "source": [
    "plt.figure(figsize=(10,6))\n",
    "plt.scatter(df_eng['Men'], df_eng['Women'], alpha=0.7)\n",
    "plt.axhline(y=men_median, color='red', linestyle='--', label=f'Медіана чоловіків ({men_median})')\n",
    "plt.title('Залежність кількості чоловіків та жінок на спеціальностях (Engineering)')\n",
    "plt.xlabel('Кількість чоловіків (Men)')\n",
    "plt.ylabel('Кількість жінок (Women)')\n",
    "plt.legend()\n",
    "plt.show()"
   ]
  },
  {
   "cell_type": "markdown",
   "id": "a6a5eae6-8248-4019-aaab-9c4ca9eb0c6c",
   "metadata": {},
   "source": [
    "Здобувач 2 (Коляда) — ящик з вусами для кількості Full_time випускників"
   ]
  },
  {
   "cell_type": "code",
   "execution_count": null,
   "id": "4fda10e9-cdd0-4c0e-8b54-c1ba12f82865",
   "metadata": {
    "scrolled": true
   },
   "outputs": [],
   "source": [
    "plt.figure(figsize=(8,6))\n",
    "sns.boxplot(data=df_eng, y='Full_time')\n",
    "plt.title('Ящик з вусами для кількості Full_time випускників (Engineering)')\n",
    "plt.ylabel('Full_time')\n",
    "plt.show()"
   ]
  },
  {
   "cell_type": "markdown",
   "id": "dba66cd8-4887-40dc-9f5c-35a0c90a2361",
   "metadata": {},
   "source": [
    "Здобувач 2 (Коляда) — розрахунок secret key"
   ]
  },
  {
   "cell_type": "code",
   "execution_count": null,
   "id": "3e67b7ce-ba59-4822-b893-485d610d7e27",
   "metadata": {},
   "outputs": [],
   "source": [
    "lowest_employment = df_eng.nsmallest(6, 'Employment_rate')\n",
    "secret_key = lowest_employment.index.to_numpy().sum()\n",
    "print(f\"Secret key: {secret_key}\")"
   ]
  },
  {
   "cell_type": "markdown",
   "id": "4f39992b-586f-4f8a-9a8a-5b8fb0b596de",
   "metadata": {},
   "source": [
    "Спільне завдання — стовпчикова діаграма з накопиченням"
   ]
  },
  {
   "cell_type": "code",
   "execution_count": null,
   "id": "11a7a951-8d5d-40b9-b8ec-e9c48ae20111",
   "metadata": {},
   "outputs": [],
   "source": [
    "stacked_data = df_eng[['Major', 'Full_time', 'Part_time', 'Unemployed']].set_index('Major')\n",
    "\n",
    "stacked_data.plot(kind='bar', stacked=True, figsize=(14,7))\n",
    "plt.title('Розподіл працевлаштування випускників за спеціальностями (Engineering)')\n",
    "plt.xlabel('Спеціальність')\n",
    "plt.ylabel('Кількість випускників')\n",
    "plt.legend(title='Статус')\n",
    "plt.tight_layout()\n",
    "plt.show()"
   ]
  }
 ],
 "metadata": {
  "kernelspec": {
   "display_name": "AI Labs (Jupyter)",
   "language": "python",
   "name": "labs_repo"
  },
  "language_info": {
   "codemirror_mode": {
    "name": "ipython",
    "version": 3
   },
   "file_extension": ".py",
   "mimetype": "text/x-python",
   "name": "python",
   "nbconvert_exporter": "python",
   "pygments_lexer": "ipython3",
   "version": "3.9.6"
  }
 },
 "nbformat": 4,
 "nbformat_minor": 5
}
